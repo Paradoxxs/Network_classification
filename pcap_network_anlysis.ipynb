{
  "cells": [
    {
      "cell_type": "markdown",
      "metadata": {
        "id": "FO1kkYZtCloZ"
      },
      "source": [
        "Using NFStream to convert the pcap file to dataframe, and there after perform analysis."
      ]
    },
    {
      "cell_type": "code",
      "execution_count": null,
      "metadata": {
        "id": "GcC3cKgEb28N"
      },
      "outputs": [],
      "source": [
        "pip install nfstream"
      ]
    },
    {
      "cell_type": "code",
      "execution_count": null,
      "metadata": {
        "id": "c9aNCJ0fV0ZW"
      },
      "outputs": [],
      "source": [
        "import nfstream\n",
        "from nfstream import NFStreamer, NFPlugin\n",
        "import pandas as pd\n",
        "import numpy\n",
        "from sklearn.ensemble import RandomForestClassifier"
      ]
    },
    {
      "cell_type": "code",
      "execution_count": null,
      "metadata": {
        "id": "Ed-JT7ZcV_AC"
      },
      "outputs": [],
      "source": [
        "df = NFStreamer(source=\"file.pcap\").to_pandas()\n",
        "df.head()"
      ]
    },
    {
      "cell_type": "code",
      "execution_count": null,
      "metadata": {
        "id": "ATkcY3JO3f1f"
      },
      "outputs": [],
      "source": [
        "timestamp = 'bidirectional_first_seen_ms'\n",
        "src_ip = 'src_ip'\n",
        "dst_ip = 'dst_ip'\n",
        "dst_host = 'requested_server_name'\n",
        "dst_port = 'dst_port'\n",
        "bytes_sent = 'src2dst_bytes'\n",
        "\n",
        "filter = [timestamp, src_ip, dst_ip, dst_host, dst_port, bytes_sent]\n",
        "groupby = [src_ip, dst_ip, dst_port] #Group the connect together that are the same. \n"
      ]
    },
    {
      "cell_type": "code",
      "execution_count": null,
      "metadata": {
        "id": "zXSjYy1N3iBk"
      },
      "outputs": [],
      "source": [
        "df = df.loc[:,filter]\n",
        "df[timestamp] = pd.to_datetime(df[timestamp], unit='ms')  #Converting ms to datetime\n",
        "df = df.groupby(groupby).agg(list)\n",
        "df.reset_index(inplace=True)\n",
        "df.head()"
      ]
    },
    {
      "cell_type": "code",
      "execution_count": null,
      "metadata": {
        "colab": {
          "base_uri": "https://localhost:8080/"
        },
        "id": "PkvAJPrBBKuu",
        "outputId": "35578b9f-bdbd-4acc-b17b-7fdc30b3327f"
      },
      "outputs": [
        {
          "data": {
            "text/plain": [
              "(38, 6)"
            ]
          },
          "execution_count": 43,
          "metadata": {},
          "output_type": "execute_result"
        }
      ],
      "source": [
        "df.shape"
      ]
    },
    {
      "cell_type": "code",
      "execution_count": null,
      "metadata": {
        "id": "Eq4z7lMV3ppD"
      },
      "outputs": [],
      "source": [
        "#ConnectionCount is  by taking each row in the timestamp column, and get the about of connection that have been made\n",
        "df['ConnectionCount'] = df[timestamp].apply(lambda x: len(x))\n",
        "\n",
        "#Remove all connection with less then 10 connections, it was choosen because of the small data sample I used, The goal is to reduce the amount of data that need to be processed\n",
        "df = df.loc[df['ConnectionCount'] > 10]\n",
        "\n",
        "#Sort the data\n",
        "df[timestamp] = df[timestamp].apply(lambda x: sorted(x))\n",
        "\n",
        "\n",
        "df['delta_time'] = df[timestamp].apply(lambda x: pd.Series(x).diff().dt.seconds.dropna().tolist())\n",
        "df.head()"
      ]
    },
    {
      "cell_type": "code",
      "execution_count": null,
      "metadata": {
        "id": "KFowLjsX3vRI"
      },
      "outputs": [],
      "source": [
        "df['tsLow'] = df['delta_time'].apply(lambda x: np.percentile(np.array(x),25))\n",
        "df['tsMid'] = df['delta_time'].apply(lambda x: np.percentile(np.array(x), 50))\n",
        "df['tsHigh'] = df['delta_time'].apply(lambda x: np.percentile(np.array(x), 75))\n",
        "\n",
        "df['tsBowleyNum'] = df['tsLow'] + df['tsHigh'] - 2 * df['tsMid']\n",
        "df['tsBowleyDen'] = df['tsHigh'] - df['tsLow']\n",
        "\n",
        "# tsSkew should equal zero if the denominator equals zero\n",
        "# bowley skew is unreliable if Q2 = Q1 or Q2 = Q3\n",
        "df['tsSkew'] = df[['tsLow', 'tsMid', 'tsHigh', 'tsBowleyNum','tsBowleyDen']].apply(\n",
        "    lambda x: x['tsBowleyNum'] / x['tsBowleyDen'] if x['tsBowleyDen'] !=0 and x['tsMid'] != x['tsLow'] and x['tsMid'] != x['tsHigh'] !=0 else 0.0, axis=1\n",
        "    )\n",
        "df['tsMadm'] = df['delta_time'].apply(lambda x: np.median(np.absolute(np.array(x) - np.median(np.array(x)))))\n",
        "df['tsConnDiv'] = df[f_timestamp].apply(lambda x: (x[-1].to_pydatetime() - x[0].to_pydatetime()).seconds / 90)\n",
        "\n",
        "# Time delta score calculation\n",
        "df['tsConnCountScore'] = df.apply(lambda x: 0.0 if x['tsConnDiv'] == 0  else x['ConnectionCount'] / x['tsConnDiv'] if x['ConnectionCount'] / x['tsConnDiv'] < 1.0 else 1.0 , axis=1)\n",
        "df['tsSkewScore'] = 1.0 - abs(df['tsSkew'])\n",
        "df['tsMadmScore'] = df['tsMadm'].apply(lambda x: 0 if 1.0 - (x / 30.0) < 0 else 1.0 - (x / 30.0))\n",
        "df['tsScore'] = (((df['tsSkewScore'] + df['tsMadmScore'] + df['tsConnCountScore']) / 3.0) * 1000) / 1000\n"
      ]
    },
    {
      "cell_type": "code",
      "execution_count": null,
      "metadata": {
        "id": "HJH8AJGk3wsN"
      },
      "outputs": [],
      "source": [
        "df['dsLow'] = df[f_sent_bytes].apply(lambda x: np.percentile(np.array(x), 25))\n",
        "df['dsMid'] = df[f_sent_bytes].apply(lambda x: np.percentile(np.array(x), 50))\n",
        "df['dsHigh'] = df[f_sent_bytes].apply(lambda x: np.percentile(np.array(x), 75))\n",
        "df['dsBowleyNum'] = df['dsLow'] + df['dsHigh'] - 2 * df['dsMid']\n",
        "df['dsBowleyDen'] = df['dsHigh'] - df['dsLow']\n",
        "\n",
        "\n",
        "# dsSkew should equal zero if the denominator equals zero\n",
        "# bowley skew is unreliable if Q2 = Q1 or Q2 = Q3\n",
        "df['dsSkew'] = df[['dsLow','dsMid','dsHigh','dsBowleyNum','dsBowleyDen']].apply(\n",
        "    lambda x: x['dsBowleyNum'] / x['dsBowleyDen'] if x['dsBowleyDen'] != 0 and x['dsMid'] != x['dsLow'] and x['dsMid'] != x['dsHigh'] else 0.0, axis=1\n",
        "    )\n",
        "df['dsMadm'] = df[f_sent_bytes].apply(lambda x: np.median(np.absolute(np.array(x) - np.median(np.array(x)))))\n",
        "\n",
        "\n",
        "# Data size score calculation of sent bytes\n",
        "df['dsSkewScore'] = 1.0 - abs(df['dsSkew'])\n",
        "df['dsMadmScore'] = df['dsMadm'].apply(lambda x: 0 if x/ 128.0 < 0 else x/ 128.0)\n",
        "df['dsSmallnessScore'] = df['dsMid'].apply(lambda x: 0 if 1.0 - x / 8192.0 < 0 else 1.0 - x / 8192.0)\n",
        "df['dsScore'] = (((df['dsSkewScore'] + df['dsMadmScore'] + df['dsSmallnessScore']) / 3.0) * 1000) / 1000"
      ]
    },
    {
      "cell_type": "code",
      "execution_count": null,
      "metadata": {
        "id": "3i-btTlR3x5g"
      },
      "outputs": [],
      "source": [
        "# Overal Score calculation\n",
        "df['Score'] = (df['dsScore'] + df['tsScore']) / 2\n",
        "\n",
        "df.sort_values(by= 'Score', ascending=False, inplace=True)\n",
        "df.head()"
      ]
    }
  ],
  "metadata": {
    "colab": {
      "collapsed_sections": [],
      "name": "pcap network anlysis.ipynb",
      "provenance": []
    },
    "kernelspec": {
      "display_name": "Python 3.9.12 ('base')",
      "language": "python",
      "name": "python3"
    },
    "language_info": {
      "name": "python",
      "version": "3.9.12"
    },
    "vscode": {
      "interpreter": {
        "hash": "68717c054f8678da32986ae071da5ff1f489071aa2574dab797010f42592f436"
      }
    }
  },
  "nbformat": 4,
  "nbformat_minor": 0
}
